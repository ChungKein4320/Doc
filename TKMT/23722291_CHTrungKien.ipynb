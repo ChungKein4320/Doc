{
 "cells": [
  {
   "cell_type": "markdown",
   "metadata": {},
   "source": [
    "# Lab 07 - Bài tập"
   ]
  },
  {
   "cell_type": "markdown",
   "metadata": {},
   "source": [
    "## Luyện tập"
   ]
  },
  {
   "cell_type": "markdown",
   "metadata": {},
   "source": [
    "### Bài 1\n",
    "\n",
    "Trong thập niên 80, trọng lượng trung bình của thanh niên là 48 kg. Nay để xác định lại trọng lượng ấy, người ta chọn ngẫu nhiên 100 thanh niên đo trọng lượng trung bình là 50 kg và phương sai mẫu $s^2 = (10 kg)^2$. Thử xem trọng lượng thanh niên hiện nay phải chăng có thay đổi, với mức ý nghĩa là 1%?\n",
    "\n",
    "   _Đáp án. Trọng lượng thanh niên hiện nay không thay đổi so với trước kia._"
   ]
  },
  {
   "cell_type": "code",
   "execution_count": 49,
   "metadata": {},
   "outputs": [],
   "source": [
    "import numpy as np\n",
    "from scipy import stats as st \n",
    "import math as m"
   ]
  },
  {
   "cell_type": "code",
   "execution_count": 50,
   "metadata": {},
   "outputs": [
    {
     "name": "stdout",
     "output_type": "stream",
     "text": [
      "gia tri kiem dinh t0 la :2.0\n",
      "critical value : 2.6264\n",
      "Không bác bỏ giả thuyết không\n"
     ]
    }
   ],
   "source": [
    "mu=48\n",
    "n=100\n",
    "x=50\n",
    "s=10\n",
    "a=0.01\n",
    "\n",
    "t0=(x-mu)/(s/m.sqrt(n))\n",
    "critical_value=st.t.isf(a/2,n-1).round(4)\n",
    "\n",
    "print(\"gia tri kiem dinh t0 la :{0}\".format(t0))\n",
    "print(\"critical value : {0}\".format(critical_value))\n",
    "\n",
    "if(abs(t0) >critical_value):\n",
    "    print(\"Bác bỏ giả thuyết không\")\n",
    "else:\n",
    "    print(\"Không bác bỏ giả thuyết không\")\n",
    "\n"
   ]
  },
  {
   "cell_type": "markdown",
   "metadata": {},
   "source": [
    "### Bài 2\n",
    "\n",
    "Một cửa hàng thực phẩm nhận thấy thời gian vừa qua trung bình một khách hàng mua 25 ngàn đồng thực phẩm trong ngày. Nay cửa hàng chọn ngẫu nhiên 15 khách hàng thấy trung bình một khách hàng mua 24 ngàn đồng trong ngày và phương sai mẫu là $s^2$ =  (2 ngàn đồng $)^2$\n",
    "\n",
    "   Với mức ý nghĩa là 5%, kiểm định xem có phải sức mua của khách hàng hiện nay thực sự giảm sút hay không. Biết rằng sức mua của khách hàng có phân phối chuẩn.\n",
    "\n",
    "   _Đáp án. Sức mua của khách hàng hiện nay thực sự giảm sút_"
   ]
  },
  {
   "cell_type": "code",
   "execution_count": 51,
   "metadata": {},
   "outputs": [
    {
     "name": "stdout",
     "output_type": "stream",
     "text": [
      "gia tri kiem dinh t0 la :-1.9364916731037087\n",
      "critical value : 1.7613\n",
      "Bác bỏ giả thuyết không\n"
     ]
    }
   ],
   "source": [
    "mu1=25\n",
    "n1=15\n",
    "x1=24\n",
    "s1=2\n",
    "a1=0.05\n",
    "\n",
    "t01=(x1-mu1)/(s1/m.sqrt(n1))\n",
    "critical_value1=st.t.isf(a1,n1-1).round(4)\n",
    "\n",
    "print(\"gia tri kiem dinh t0 la :{0}\".format(t01))\n",
    "print(\"critical value : {0}\".format(critical_value1))\n",
    "\n",
    "if(abs(t01) >critical_value1):\n",
    "    print(\"Bác bỏ giả thuyết không\")\n",
    "else:\n",
    "    print(\"Không bác bỏ giả thuyết không\")\n",
    "\n",
    "# duoi trai do kiem dinh giam nen khong lay a/2\n"
   ]
  },
  {
   "cell_type": "markdown",
   "metadata": {},
   "source": [
    "### Bài 3\n",
    "\n",
    "Một máy sản suất tự động, lúc đầu tỷ lệ sản phẩm loại A là 20%. Sau khi áp dụng một phương pháp cải tiến sản xuất mới, người ta lấy 40 mẫu, mỗi mẫu gồm 10 sản phẩm đề kiểm tra. Kết quả kiểm tra cho ở bảng sau:\n",
    "\n",
    "| **Số sản phẩm loại A** |  1   |  2   |  3   |  4   |  5   |  6   |  7   |  8   |  9   |  10  |\n",
    "| ---------------------- | :--: | :--: | :--: | :--: | :--: | :--: | :--: | :--: | :--: | :--: |\n",
    "| **Số mẫu**             |  2   |  0   |  4   |  6   |  8   |  10  |  4   |  5   |  1   |  0   |\n",
    "\n",
    " Với mức ý nghĩa 5%. Hãy cho kết luận về phương pháp sản suất này. \n",
    "\n",
    " _Đáp án.Phương pháp cải tiến sản xuất mới thay đổi tỉ lệ sản phẩm loại A_"
   ]
  },
  {
   "cell_type": "code",
   "execution_count": 52,
   "metadata": {},
   "outputs": [
    {
     "name": "stdout",
     "output_type": "stream",
     "text": [
      "Tỷ lệ sản phẩm loại A trung bình trong các mẫu: 0.5375\n",
      "Thống kê kiểm định z: 16.8750\n",
      "Giá trị p: 0.0000\n",
      "Bác bỏ giả thuyết H0.\n",
      "Kết luận: Phương pháp cải tiến sản xuất mới có thay đổi tỷ lệ sản phẩm loại A.\n"
     ]
    }
   ],
   "source": [
    "import numpy as np\n",
    "from scipy import stats\n",
    "\n",
    "so_san_pham_loai_A = np.array([1, 2, 3, 4, 5, 6, 7, 8, 9, 10])\n",
    "so_mau = np.array([2, 0, 4, 6, 8, 10, 4, 5, 1, 0])\n",
    "tong_so_mau = np.sum(so_mau)\n",
    "kich_thuoc_mau = 10\n",
    "\n",
    "tong_san_pham_loai_A = np.sum(so_san_pham_loai_A * so_mau)\n",
    "ty_le_mau = tong_san_pham_loai_A / (tong_so_mau * kich_thuoc_mau)\n",
    "\n",
    "print(f\"Tỷ lệ sản phẩm loại A trung bình trong các mẫu: {ty_le_mau:.4f}\")\n",
    "\n",
    "p0 = 0.20\n",
    "alpha = 0.05\n",
    "\n",
    "n = tong_so_mau * kich_thuoc_mau \n",
    "p_hat = ty_le_mau\n",
    "\n",
    "if n * p0 >= 10 and n * (1 - p0) >= 10:\n",
    "    z_score = (p_hat - p0) / np.sqrt(p0 * (1 - p0) / n)\n",
    "    p_value = 2 * (1 - stats.norm.cdf(np.abs(z_score)))\n",
    "\n",
    "    print(f\"Thống kê kiểm định z: {z_score:.4f}\")\n",
    "    print(f\"Giá trị p: {p_value:.4f}\")\n",
    "\n",
    "    if p_value < alpha:\n",
    "        print(\"Bác bỏ giả thuyết H0.\")\n",
    "        print(\"Kết luận: Phương pháp cải tiến sản xuất mới có thay đổi tỷ lệ sản phẩm loại A.\")\n",
    "    else:\n",
    "        print(\"Không có đủ bằng chứng để bác bỏ giả thuyết H0.\")\n",
    "        print(\"Kết luận: Chưa có bằng chứng cho thấy phương pháp cải tiến sản xuất mới thay đổi tỷ lệ sản phẩm loại A.\")\n",
    "else:\n",
    "    print(\"Không đủ điều kiện để sử dụng kiểm định z cho tỷ lệ (n*p0 < 10 hoặc n*(1-p0) < 10).\")"
   ]
  },
  {
   "cell_type": "markdown",
   "metadata": {},
   "source": [
    "### Bài 4\n",
    "\n",
    "Tỷ lệ phế phẩm của một nhà máy trước đây là 5%. Năm nay nhà máy áp dụng một biện pháp kỹ thuật mới. Để nghiên cứu tác dụng của biện pháp kỹ thuật mới, người ta lấy một mẫu gồm 800 sản phẩm để kiểm tra và thấy có 24 phế phẩm.\n",
    "\n",
    "a. Với α = 0.01. Hãy cho kết luận về biện pháp kỹ thuật mới này?\n",
    "\n",
    "b. Nếu nhà máy báo cáo tỷ lệ phế phẩm sau khi áp dụng biện pháp kỹ thuật mới là\n",
    "2% thì có chấp nhận được không? (α = 0.01).\n",
    "\n",
    "_Đáp án. (a) Biện pháp kĩ thuật mới làm thay đổi tỉ lệ phế phẩm (b) Nhà máy báo cáo tỷ lệ phế phẩm là chấp nhận được._"
   ]
  },
  {
   "cell_type": "code",
   "execution_count": 53,
   "metadata": {},
   "outputs": [
    {
     "name": "stdout",
     "output_type": "stream",
     "text": [
      "gia tri kiem dinh t0 la :-2.5955\n",
      "critical value : 2.5758\n",
      "Bác bỏ giả thuyết không\n",
      "gia tri kiem dinh t0 la :2.0203\n",
      "critical value : 2.5758\n",
      "Không bác bỏ giả thuyết không\n"
     ]
    }
   ],
   "source": [
    "p0_4=0.05\n",
    "n_4=800\n",
    "f_4=0.03\n",
    "a_4=0.01\n",
    "\n",
    "trikiemdinh = ((f_4 - p0_4) / np.sqrt((p0_4*(1-p0_4))/n_4)).round(4)\n",
    "critical_value_4=st.norm.isf(a_4/2).round(4)\n",
    "print(\"gia tri kiem dinh t0 la :{0}\".format(trikiemdinh))\n",
    "print(\"critical value : {0}\".format(critical_value_4))\n",
    "if(abs(trikiemdinh) >critical_value_4):\n",
    "    print(\"Bác bỏ giả thuyết không\")\n",
    "else:\n",
    "    print(\"Không bác bỏ giả thuyết không\")\n",
    "\n",
    "p0_41 = 0.02\n",
    "\n",
    "trikiemdinh1 = ((f_4 - p0_41) / np.sqrt((p0_41*(1-p0_41))/n_4)).round(4)\n",
    "print(\"gia tri kiem dinh t0 la :{0}\".format(trikiemdinh1))\n",
    "print(\"critical value : {0}\".format(critical_value_4))\n",
    "if(abs(trikiemdinh1) >critical_value_4):\n",
    "    print(\"Bác bỏ giả thuyết không\")\n",
    "else:\n",
    "    print(\"Không bác bỏ giả thuyết không\")"
   ]
  },
  {
   "cell_type": "markdown",
   "metadata": {},
   "source": [
    "## Kiểm định đặc trưng tỉ lệ (p)"
   ]
  },
  {
   "cell_type": "markdown",
   "metadata": {},
   "source": [
    "### Bài 5\n",
    "\n",
    "Dataset 18 (__M&M__) chứa thông tin trọng lượng và màu sắc của mẫu các viên kẹo của hãng M&M. \n",
    "\n",
    "Sử dụng mẫu trên bạn hãy kiểm tra phát biểu sau: __\"20% kẹo M&M có màu đỏ\"__ với mức ý nghĩa là 5%\n",
    "\n",
    "*Hướng dẫn: tính tỷ lệ các viên kẹo có màu đỏ từ dữ liệu, sử dụng kết quả để kiểm định phát biểu trên*"
   ]
  },
  {
   "cell_type": "code",
   "execution_count": 54,
   "metadata": {},
   "outputs": [
    {
     "name": "stdout",
     "output_type": "stream",
     "text": [
      "Tỷ lệ viên kẹo màu đỏ trong mẫu: 0.4815\n",
      "Giá trị Z tính được: 3.6566\n",
      "Giá trị Z tới hạn: 1.9600\n",
      "Kết luận: Bác bỏ giả thuyết không (tỷ lệ kẹo màu đỏ không phải là 20%)\n"
     ]
    }
   ],
   "source": [
    "import pandas as pd\n",
    "file_path = '18_M_M.xls'\n",
    "df = pd.read_excel(file_path)\n",
    "red_candies = df['Red'].dropna()\n",
    "p_hat = len(red_candies) / len(df)\n",
    "\n",
    "p_0 = 0.2 \n",
    "n = len(df) \n",
    "\n",
    "z_stat = (p_hat - p_0) / np.sqrt((p_0 * (1 - p_0)) / n)\n",
    "\n",
    "alpha = 0.05\n",
    "z_critical = st.norm.ppf(1 - alpha / 2)\n",
    "\n",
    "if abs(z_stat) > z_critical:\n",
    "    result = \"Bác bỏ giả thuyết không (tỷ lệ kẹo màu đỏ không phải là 20%)\"\n",
    "else:\n",
    "    result = \"Không bác bỏ giả thuyết không (tỷ lệ kẹo màu đỏ là 20%)\"\n",
    "\n",
    "print(f\"Tỷ lệ viên kẹo màu đỏ trong mẫu: {p_hat:.4f}\")\n",
    "print(f\"Giá trị Z tính được: {z_stat:.4f}\")\n",
    "print(f\"Giá trị Z tới hạn: {z_critical:.4f}\")\n",
    "print(f\"Kết luận: {result}\")\n"
   ]
  },
  {
   "cell_type": "markdown",
   "metadata": {},
   "source": [
    "### Bài 6\n",
    "\n",
    "Dataset 3 (__FRESH15__) chứa thông tin khảo sát những thay đổi về trọng lượng (weight - WT) và chỉ số khối của cơ thể (BMI) của sinh viên năm nhất tại một trường Đại Học. Thời điểm khảo sát là bắt đầu học kỳ (tháng 9 - SEP) và kết thúc học kỳ (tháng 4 - APR), các sinh viên được chọn ngẫu nhiên trong trường.\n",
    "\n",
    "Sử dụng mẫu trên, hãy kiểm tra phát biểu:__\"50% số sinh viên trong trường là nam\"__ với mức ý nghĩa 50%\n",
    "\n",
    "Các thuộc tính trong bộ dữ liệu:\n",
    "- SEX: Giới tính\n",
    "- WTSEP: trọng lượng đo vào tháng 9 (mới nhập học)\n",
    "- WTAPR: trọng lượng đo vào tháng 4 (kết thúc năm học)\n",
    "- BMISP: BMI tháng 9\n",
    "- BMIAP: BMI tháng 4"
   ]
  },
  {
   "cell_type": "code",
   "execution_count": 55,
   "metadata": {},
   "outputs": [
    {
     "name": "stdout",
     "output_type": "stream",
     "text": [
      "Tỷ lệ sinh viên nam trong mẫu: 0.4776\n",
      "Giá trị Z tính được: -0.3665\n",
      "Giá trị Z tới hạn: 1.9600\n",
      "Kết luận: Không bác bỏ giả thuyết không (Tỷ lệ sinh viên nam là 50%)\n"
     ]
    }
   ],
   "source": [
    "file_path = '03_FRESH15.xls'  \n",
    "df = pd.read_excel(file_path)\n",
    "\n",
    "n_men = (df['SEX'] == 'M').sum() \n",
    "n_total = len(df)  \n",
    "\n",
    "p_hat = n_men / n_total\n",
    "\n",
    "p_0 = 0.5 \n",
    "n = n_total \n",
    "\n",
    "z_stat = (p_hat - p_0) / np.sqrt((p_0 * (1 - p_0)) / n)\n",
    "\n",
    "alpha = 0.05\n",
    "z_critical = st.norm.ppf(1 - alpha / 2) \n",
    "\n",
    "if abs(z_stat) > z_critical:\n",
    "    result = \"Bác bỏ giả thuyết không (Tỷ lệ sinh viên nam không phải là 50%)\"\n",
    "else:\n",
    "    result = \"Không bác bỏ giả thuyết không (Tỷ lệ sinh viên nam là 50%)\"\n",
    "\n",
    "# In kết quả\n",
    "print(f\"Tỷ lệ sinh viên nam trong mẫu: {p_hat:.4f}\")\n",
    "print(f\"Giá trị Z tính được: {z_stat:.4f}\")\n",
    "print(f\"Giá trị Z tới hạn: {z_critical:.4f}\")\n",
    "print(f\"Kết luận: {result}\")\n"
   ]
  },
  {
   "cell_type": "markdown",
   "metadata": {},
   "source": [
    "## Kiểm định đặc trưng kỳ vọng ($\\mu$) biết ($\\sigma$)"
   ]
  },
  {
   "cell_type": "markdown",
   "metadata": {},
   "source": [
    "### Bài 7\n",
    "\n",
    "Dataset 13 __(VOLTAGE)__ liệt kê các mức điện áp được đo tại các hộ gia đình bởi các máy đo khác nhau: tại nhà (HOME), tại máy phát độc lập (Generator), tại trạm phát (UPS).\n",
    "\n",
    "Công ty cung cấp điện cho vùng này cam kết rằng: __\"Mục tiêu cung cấp điện cho mỗi hộ gia đình là 120V\"__ . Biết rằng độ lệch chuẩn của tất cả các mức điện áp đo được là 0.24V.\n",
    "\n",
    "Với mức ý nghĩa 1%. Bạn hãy kiểm tra xem công ty có làm đúng cam kết hay không?"
   ]
  },
  {
   "cell_type": "code",
   "execution_count": 56,
   "metadata": {},
   "outputs": [
    {
     "name": "stdout",
     "output_type": "stream",
     "text": [
      "Trung bình mẫu tại nhà: 123.6625\n",
      "Giá trị Z tính được: 96.5153\n",
      "Giá trị Z tới hạn: 2.5758\n",
      "Kết luận: Bác bỏ giả thuyết không (Mức điện áp trung bình không phải là 120V)\n"
     ]
    }
   ],
   "source": [
    "df = pd.read_excel('13_VOLTAGE.xls')\n",
    "mean_home = np.mean(df['Home'])\n",
    "n = len(df)\n",
    "mu_0 = 120\n",
    "sigma = 0.24\n",
    "z_stat = (mean_home - mu_0) / (sigma / np.sqrt(n))\n",
    "alpha = 0.01\n",
    "z_critical = st.norm.ppf(1 - alpha / 2)\n",
    "\n",
    "if abs(z_stat) > z_critical:\n",
    "    result = \"Bác bỏ giả thuyết không (Mức điện áp trung bình không phải là 120V)\"\n",
    "else:\n",
    "    result = \"Không bác bỏ giả thuyết không (Mức điện áp trung bình là 120V)\"\n",
    "\n",
    "print(f\"Trung bình mẫu tại nhà: {mean_home:.4f}\")\n",
    "print(f\"Giá trị Z tính được: {z_stat:.4f}\")\n",
    "print(f\"Giá trị Z tới hạn: {z_critical:.4f}\")\n",
    "print(f\"Kết luận: {result}\")\n"
   ]
  },
  {
   "cell_type": "markdown",
   "metadata": {},
   "source": [
    "## Kiểm định đặc trưng kỳ vọng ($\\mu$) không biết ($\\sigma$)"
   ]
  },
  {
   "cell_type": "markdown",
   "metadata": {},
   "source": [
    "### Bài 8\n",
    "\n",
    "Dataset 19(__SCREWS__) chứa thông tin khảo sát chiều dài một số đinh ốc được cung cấp bởi công ty Crown Bolt (đơn vị inches)\n",
    "\n",
    "Trên bao bì của các đinh ốc do công ty sản xuất có ghi chiều dài của các đinh ốc là 3/4 inches. Sử dụng mẫu trên bạn hãy cho biết chiều dài của đinh ốc lấy từ mẫu thu nhận được từ dữ liệu trên có nhất quán với chiều dài ghi trên bao bì hay không? Kiểm định với mức ý nghĩa 5%"
   ]
  },
  {
   "cell_type": "code",
   "execution_count": 57,
   "metadata": {},
   "outputs": [
    {
     "name": "stdout",
     "output_type": "stream",
     "text": [
      "T-statistics: -1.8249114276291667\n",
      "P-value: 0.07411353815940824\n",
      "Không bác bỏ giả thuyết không (Chiều dài đinh ốc là 0.75 inches)\n"
     ]
    }
   ],
   "source": [
    "\n",
    "df = pd.read_excel('19_SCREWS.xls', header=None) \n",
    "screw_lengths = df[0].tolist()\n",
    "mu = 0.75\n",
    "alpha = 0.05\n",
    "t_stat, p_value = st.ttest_1samp(screw_lengths, mu)\n",
    "print(f\"T-statistics: {t_stat}\")\n",
    "print(f\"P-value: {p_value}\")\n",
    "if p_value < alpha:\n",
    "    print(\"Bác bỏ giả thuyết không (Chiều dài đinh ốc không phải 0.75 inches)\")\n",
    "else:\n",
    "    print(\"Không bác bỏ giả thuyết không (Chiều dài đinh ốc là 0.75 inches)\")\n"
   ]
  },
  {
   "cell_type": "markdown",
   "metadata": {},
   "source": [
    "### Bài 9\n",
    "\n",
    "Dataset 2 __(BODYTEMP)__ chứa thông tin khảo sát nhiệt độ cơ thể từ một nhóm người vào cùng một thời điểm lúc 12h trưa.\n",
    "\n",
    "Có một phát biểu nói rằng, nhiệt độ cơ thể người đo lúc 12h trưa trong quần thể này là 98,6°\n",
    "\n",
    "Dựa vào mẫu trên, bạn hãy cho biết phát biểu trên đúng hay sai ở mức ý nghĩa là 5%."
   ]
  },
  {
   "cell_type": "code",
   "execution_count": 58,
   "metadata": {},
   "outputs": [
    {
     "name": "stdout",
     "output_type": "stream",
     "text": [
      "\n",
      "T-Statistic: -6.611455226059063\n",
      "P-value: 1.6266558934157207e-09\n",
      "Bác bỏ giả thuyết không. Nhiệt độ cơ thể không phải 98.6°.\n"
     ]
    }
   ],
   "source": [
    "file_path = '02_BODYTEMP.xls'\n",
    "data = pd.read_excel(file_path, header=None, names=['Temperature'])\n",
    "population_mean = 98.6 \n",
    "sample_data = data['Temperature']\n",
    "t_stat, p_value = stats.ttest_1samp(sample_data, population_mean)\n",
    "\n",
    "print(f\"\\nT-Statistic: {t_stat}\")\n",
    "print(f\"P-value: {p_value}\")\n",
    "\n",
    "if p_value < 0.05:\n",
    "    print(\"Bác bỏ giả thuyết không. Nhiệt độ cơ thể không phải 98.6°.\")\n",
    "else:\n",
    "    print(\"Không bác bỏ giả thuyết không. Nhiệt độ cơ thể là 98.6°.\")\n"
   ]
  },
  {
   "cell_type": "markdown",
   "metadata": {},
   "source": [
    "### Bài 10\n",
    "\n",
    "Tìm hiểu z_test, t_test trong python"
   ]
  },
  {
   "cell_type": "code",
   "execution_count": 59,
   "metadata": {},
   "outputs": [],
   "source": [
    "# Z-Test được sử dụng khi bạn biết hoặc có thể ước tính độ lệch chuẩn của tổng thể và kích thước mẫu lớn (n > 30). Z-Test thường dùng trong các tình huống khi dữ liệu phân phối chuẩn và bạn có thông tin về độ lệch chuẩn của tổng thể.\n",
    "# T-Test được sử dụng khi bạn không biết độ lệch chuẩn tổng thể và khi mẫu nhỏ (n ≤ 30). T-Test cũng sử dụng phân phối t (Student's t-distribution) thay vì phân phối chuẩn."
   ]
  },
  {
   "cell_type": "markdown",
   "metadata": {},
   "source": [
    "---"
   ]
  }
 ],
 "metadata": {
  "kernelspec": {
   "display_name": "Python 3 (ipykernel)",
   "language": "python",
   "name": "python3"
  },
  "language_info": {
   "codemirror_mode": {
    "name": "ipython",
    "version": 3
   },
   "file_extension": ".py",
   "mimetype": "text/x-python",
   "name": "python",
   "nbconvert_exporter": "python",
   "pygments_lexer": "ipython3",
   "version": "3.13.3"
  }
 },
 "nbformat": 4,
 "nbformat_minor": 4
}
