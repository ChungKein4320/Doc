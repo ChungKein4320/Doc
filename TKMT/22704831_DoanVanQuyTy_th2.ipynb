{
 "cells": [
  {
   "cell_type": "markdown",
   "metadata": {
    "vscode": {
     "languageId": "plaintext"
    }
   },
   "source": [
    "# THỐNG KÊ MÁY TÍNH - THƯỜNG KỲ 2\n",
    "\n",
    "Họ và tên: Đoàn Văn Quý Tỷ\n",
    "\n",
    "MSSV: 22704831"
   ]
  },
  {
   "cell_type": "markdown",
   "metadata": {
    "vscode": {
     "languageId": "plaintext"
    }
   },
   "source": [
    "## Bài 1:(4 điểm) Một công ty sản xuất thiết bị điện tử muốn đánh giá tỉ lệ sản phẩm lỗi trong quy trình sản xuất mới. Họ đã tiến hành kiểm tra ngẫu nhiên 500 thiết bị và phát hiện 35 thiết bị có lỗi.\n",
    "\n",
    "```python\n",
    "import numpy as np\n",
    "import pandas as pd\n",
    "import matplotlib.pyplot as plt\n",
    "import scipy.stats as stats\n",
    "```"
   ]
  },
  {
   "cell_type": "markdown",
   "metadata": {},
   "source": [
    "### a) Tính tỉ lệ thiết bị lỗi trong mẫu và ước lượng độ lệch chuẩn của tỉ lệ mẫu. (1 điểm)"
   ]
  },
  {
   "cell_type": "code",
   "execution_count": 13,
   "metadata": {
    "vscode": {
     "languageId": "plaintext"
    }
   },
   "outputs": [],
   "source": [
    "import numpy as np\n",
    "import pandas as pd\n",
    "import matplotlib.pyplot as plt\n",
    "import scipy.stats as stats\n",
    "import numpy as np\n",
    "import matplotlib.pyplot as plt\n",
    "from scipy.stats import norm\n",
    "import math\n",
    "from scipy import stats\n",
    "import pandas as pd\n",
    "# from scipy.st\n",
    "# ats import t\n",
    "import statsmodels.api as sm\n",
    "from sklearn import linear_model\n",
    "import statsmodels.formula.api as smf"
   ]
  },
  {
   "cell_type": "code",
   "execution_count": 22,
   "metadata": {
    "vscode": {
     "languageId": "plaintext"
    }
   },
   "outputs": [],
   "source": []
  },
  {
   "cell_type": "code",
   "execution_count": null,
   "metadata": {},
   "outputs": [],
   "source": []
  },
  {
   "cell_type": "markdown",
   "metadata": {},
   "source": [
    "### b) Xây dựng khoảng ước lượng cho tỉ lệ thiết bị lỗi trong toàn bộ dây chuyền sản xuất với độ tin cậy 95%. (2 điểm)"
   ]
  },
  {
   "cell_type": "code",
   "execution_count": null,
   "metadata": {
    "vscode": {
     "languageId": "plaintext"
    }
   },
   "outputs": [],
   "source": []
  },
  {
   "cell_type": "code",
   "execution_count": null,
   "metadata": {
    "vscode": {
     "languageId": "plaintext"
    }
   },
   "outputs": [],
   "source": []
  },
  {
   "cell_type": "markdown",
   "metadata": {},
   "source": [
    "### c) Tiêu chuẩn của ngành yêu cầu tỉ lệ sản phẩm lỗi không được vượt quá 8%. Dựa vào khoảng ước lượng mà bạn đã tính được, hãy cho biết liệu quy trình sản xuất mới có đáp ứng được tiêu chuẩn của ngành hay không? (1 điểm)"
   ]
  },
  {
   "cell_type": "code",
   "execution_count": null,
   "metadata": {
    "vscode": {
     "languageId": "plaintext"
    }
   },
   "outputs": [],
   "source": []
  },
  {
   "cell_type": "code",
   "execution_count": null,
   "metadata": {
    "vscode": {
     "languageId": "plaintext"
    }
   },
   "outputs": [],
   "source": []
  },
  {
   "cell_type": "markdown",
   "metadata": {},
   "source": [
    "## Bài 2: \n",
    "Một nhà sản xuất pin mặt trời tuyên bố rằng tuổi thọ trung bình của sản phẩm pin mặt trời mới của họ là ít nhất 15 năm. Một viện nghiên cứu độc lập muốn kiểm tra tuyên bố này và đã theo dõi 18 pin mặt trời cho đến khi chúng hết tuổi thọ sử dụng. Dữ liệu về tuổi thọ (tính bằng năm) được ghi lại như sau:\n",
    "\n",
    "```python\n",
    "solar_panel_lifetime = np.array([\n",
    "    14.2, 15.7, 13.8, 16.2, 14.5, 15.9, 13.5, 14.8, 16.5,\n",
    "    15.1, 14.7, 15.4, 13.9, 15.8, 14.4, 15.3, 14.9, 15.5\n",
    "])\n",
    "```"
   ]
  },
  {
   "cell_type": "markdown",
   "metadata": {},
   "source": [
    "### a) Với mức ý nghĩa α = 0.05, hãy thực hiện kiểm định để xác định liệu tuổi thọ trung bình của pin mặt trời có thực sự đạt được ít nhất 15 năm như nhà sản xuất tuyên bố hay không? (3 điểm)"
   ]
  },
  {
   "cell_type": "markdown",
   "metadata": {
    "vscode": {
     "languageId": "plaintext"
    }
   },
   "source": [
    "B1. Thiết lập giả thuyết và kiểm tra điều kiện\n",
    "\n",
    "𝐻0:𝜇<=15(không vượt quá tuổi thọ trung bình)\n",
    " \n",
    "\n",
    "𝐻1:𝜇>15(vượt quá tuổi thọ trung bình)\n",
    " \n",
    "\n",
    "Điều kiện kiểm định: Mẫu nhỏ ( 𝑛=18\n",
    " ) nhưng không biết  𝜎\n",
    " , theo định lý giới hạn trung tâm,  𝑥¯\n",
    "  xấp xỉ phân phối chuẩn -> dùng phân phối t phía trái"
   ]
  },
  {
   "cell_type": "markdown",
   "metadata": {
    "vscode": {
     "languageId": "plaintext"
    }
   },
   "source": [
    "B2. Mức ý nghĩa kiểm định\n",
    "\n",
    "alpha = 0.05"
   ]
  },
  {
   "cell_type": "markdown",
   "metadata": {},
   "source": [
    "B3. Tính giá trị kiểm định từ mẫu\n",
    "$ t = \\frac{\\bar{x} - \\mu_0}{s / \\sqrt{n}} $ = 0.0284"
   ]
  },
  {
   "cell_type": "markdown",
   "metadata": {},
   "source": [
    "B4. Xác định  p-value\n",
    "p-value:\n",
    "\n",
    "\n",
    "$$\n",
    "\\text{p-value} \\approx 0 > \\alpha = 0.05 \\Rightarrow \\text{Không bác bỏ } H_0\n",
    "$$"
   ]
  },
  {
   "cell_type": "markdown",
   "metadata": {},
   "source": [
    "B5. Kết luận\n",
    "- p-value **lớn** mức ý nghĩa\n",
    "- **Kết luận:** tuổi thọ trung bình của pin mặt trời có thực sự đạt được ít nhất 15 năm"
   ]
  },
  {
   "cell_type": "code",
   "execution_count": 18,
   "metadata": {},
   "outputs": [],
   "source": [
    "solar_panel_lifetime = np.array([\n",
    "    14.2, 15.7, 13.8, 16.2, 14.5, 15.9, 13.5, 14.8, 16.5,\n",
    "    15.1, 14.7, 15.4, 13.9, 15.8, 14.4, 15.3, 14.9, 15.5\n",
    "])"
   ]
  },
  {
   "cell_type": "code",
   "execution_count": 21,
   "metadata": {},
   "outputs": [
    {
     "name": "stdout",
     "output_type": "stream",
     "text": [
      "Trị kiểm định t = 0.0284\n",
      "Trị tới hạn: 1.7396\n",
      "CI 95%: (14.664830216925882, 15.346280894185231)\n",
      "p-value = 0.4889\n",
      "Kết luận theo p-value: Không bác bỏ H0\n",
      "15.005555555555556\n"
     ]
    }
   ],
   "source": [
    "# Dữ liệu\n",
    "mu_0 = 15\n",
    "x_bar = solar_panel_lifetime.mean()\n",
    "sigma = solar_panel_lifetime.std()\n",
    "n = len(solar_panel_lifetime)\n",
    "alpha = 0.05\n",
    "\n",
    "# Trị kiểm định\n",
    "t = (x_bar - mu_0) / (sigma / np.sqrt(n))\n",
    "print(\"Trị kiểm định t =\", round(t, 4))\n",
    "\n",
    "t_crit = stats.t.ppf(1 - alpha, df=n-1)\n",
    "print(f\"Trị tới hạn: {t_crit:.4f}\")\n",
    "\n",
    "t_score = stats.t.ppf(1 - alpha, df=n-1)\n",
    "se = sigma / np.sqrt(n)\n",
    "ci = (x_bar - t_score * se, x_bar + t_score * se)\n",
    "print(f\"CI 95%: {ci}\")\n",
    "\n",
    "# p-value\n",
    "p_value = 1 - stats.t.cdf(t, df=n-1)\n",
    "print(\"p-value =\", round(p_value, 4))\n",
    "\n",
    "if p_value < alpha:\n",
    "    print(\"Kết luận theo p-value: Bác bỏ H0\")\n",
    "else:\n",
    "    print(\"Kết luận theo p-value: Không bác bỏ H0\")\n",
    "print(x_bar)"
   ]
  },
  {
   "cell_type": "markdown",
   "metadata": {},
   "source": [
    "### b) Từ kết quả trên, hãy đưa ra kết luận về tuyên bố của nhà sản xuất. Nếu bạn là chuyên gia tư vấn cho nhà sản xuất, bạn sẽ đề xuất những biện pháp gì? (1 điểm)"
   ]
  },
  {
   "cell_type": "code",
   "execution_count": null,
   "metadata": {
    "vscode": {
     "languageId": "plaintext"
    }
   },
   "outputs": [],
   "source": []
  },
  {
   "cell_type": "code",
   "execution_count": null,
   "metadata": {
    "vscode": {
     "languageId": "plaintext"
    }
   },
   "outputs": [],
   "source": []
  },
  {
   "cell_type": "markdown",
   "metadata": {
    "vscode": {
     "languageId": "plaintext"
    }
   },
   "source": [
    "## Bài 3: (2 điểm)\n",
    "Một nhà nghiên cứu môi trường muốn khảo sát mối quan hệ giữa mức tiêu thụ năng lượng hàng tháng (kWh) và diện tích (m²) của các căn hộ trong một khu chung cư. Sau khi thu thập dữ liệu từ 12 căn hộ, nhà nghiên cứu ghi nhận được:\n",
    "\n",
    "```python\n",
    "apartment_data = pd.DataFrame({\n",
    "    'Dien_tich': [45, 60, 75, 50, 85, 95, 65, 70, 80, 55, 90, 40],\n",
    "    'Tieu_thu_nang_luong': [280, 350, 420, 300, 480, 520, 380, 400, 450, 320, 500, 260]\n",
    "})\n",
    "\n",
    "print(apartment_data)"
   ]
  },
  {
   "cell_type": "markdown",
   "metadata": {
    "vscode": {
     "languageId": "plaintext"
    }
   },
   "source": [
    "### a) Tính hệ số tương quan Pearson giữa diện tích và mức tiêu thụ năng lượng. Xây dựng mô hình hồi quy tuyến tính đơn để dự đoán mức tiêu thụ năng lượng dựa vào diện tích căn hộ. Viết phương trình hồi quy. (1 điểm)\n"
   ]
  },
  {
   "cell_type": "code",
   "execution_count": 10,
   "metadata": {
    "vscode": {
     "languageId": "plaintext"
    }
   },
   "outputs": [
    {
     "name": "stdout",
     "output_type": "stream",
     "text": [
      "    Dien_tich  Tieu_thu_nang_luong\n",
      "0          45                  280\n",
      "1          60                  350\n",
      "2          75                  420\n",
      "3          50                  300\n",
      "4          85                  480\n",
      "5          95                  520\n",
      "6          65                  380\n",
      "7          70                  400\n",
      "8          80                  450\n",
      "9          55                  320\n",
      "10         90                  500\n",
      "11         40                  260\n"
     ]
    }
   ],
   "source": [
    "apartment_data = pd.DataFrame({\n",
    "    'Dien_tich': [45, 60, 75, 50, 85, 95, 65, 70, 80, 55, 90, 40],\n",
    "    'Tieu_thu_nang_luong': [280, 350, 420, 300, 480, 520, 380, 400, 450, 320, 500, 260]\n",
    "})\n",
    "\n",
    "print(apartment_data)"
   ]
  },
  {
   "cell_type": "code",
   "execution_count": 14,
   "metadata": {},
   "outputs": [
    {
     "name": "stdout",
     "output_type": "stream",
     "text": [
      "                             OLS Regression Results                            \n",
      "===============================================================================\n",
      "Dep. Variable:     Tieu_thu_nang_luong   R-squared:                       0.998\n",
      "Model:                             OLS   Adj. R-squared:                  0.998\n",
      "Method:                  Least Squares   F-statistic:                     4456.\n",
      "Date:                 Tue, 15 Apr 2025   Prob (F-statistic):           1.39e-14\n",
      "Time:                         18:40:51   Log-Likelihood:                -33.636\n",
      "No. Observations:                   12   AIC:                             71.27\n",
      "Df Residuals:                       10   BIC:                             72.24\n",
      "Df Model:                            1                                         \n",
      "Covariance Type:             nonrobust                                         \n",
      "==============================================================================\n",
      "                 coef    std err          t      P>|t|      [0.025      0.975]\n",
      "------------------------------------------------------------------------------\n",
      "Intercept     58.8578      5.094     11.553      0.000      47.507      70.209\n",
      "Dien_tich      4.8811      0.073     66.754      0.000       4.718       5.044\n",
      "==============================================================================\n",
      "Omnibus:                        0.158   Durbin-Watson:                   2.158\n",
      "Prob(Omnibus):                  0.924   Jarque-Bera (JB):                0.363\n",
      "Skew:                          -0.056   Prob(JB):                        0.834\n",
      "Kurtosis:                       2.156   Cond. No.                         281.\n",
      "==============================================================================\n",
      "\n",
      "Notes:\n",
      "[1] Standard Errors assume that the covariance matrix of the errors is correctly specified.\n",
      "Mô hình hồi quy: y = 58.8578 + 4.8811x\n",
      "Hệ số tương quan: 0.9988798361591897\n"
     ]
    },
    {
     "name": "stderr",
     "output_type": "stream",
     "text": [
      "C:\\ProgramData\\Anaconda3\\lib\\site-packages\\scipy\\stats\\stats.py:1603: UserWarning: kurtosistest only valid for n>=20 ... continuing anyway, n=12\n",
      "  warnings.warn(\"kurtosistest only valid for n>=20 ... continuing \"\n"
     ]
    }
   ],
   "source": [
    "model = sm.formula.ols('Tieu_thu_nang_luong ~ Dien_tich', data=apartment_data).fit()\n",
    "print(model.summary())\n",
    "print(f\"Mô hình hồi quy: y = {model.params[0]:.4f} + {model.params[1]:.4f}x\")\n",
    "r = np.corrcoef(apartment_data[\"Dien_tich\"], apartment_data[\"Tieu_thu_nang_luong\"])[0, 1]\n",
    "print(\"Hệ số tương quan:\", r)\n"
   ]
  },
  {
   "cell_type": "markdown",
   "metadata": {},
   "source": [
    "Hệ số tương quan mạnh: 0.9988798361591897 ~ 1\n",
    "Mô hình hồi quy: y(Tieu_thu_nang_luong) = 58.8578 + 4.8811 *  x(Dien_tich)"
   ]
  },
  {
   "cell_type": "code",
   "execution_count": null,
   "metadata": {},
   "outputs": [],
   "source": []
  },
  {
   "cell_type": "code",
   "execution_count": null,
   "metadata": {
    "vscode": {
     "languageId": "plaintext"
    }
   },
   "outputs": [],
   "source": []
  },
  {
   "cell_type": "markdown",
   "metadata": {},
   "source": [
    "### b) Dự đoán mức tiêu thụ năng lượng hàng tháng của một căn hộ có diện tích 68 m². (1 điểm)"
   ]
  },
  {
   "cell_type": "code",
   "execution_count": 16,
   "metadata": {
    "vscode": {
     "languageId": "plaintext"
    }
   },
   "outputs": [
    {
     "name": "stdout",
     "output_type": "stream",
     "text": [
      "Dự đoán mức tiêu thụ năng lượng hàng tháng của một căn hộ có diện tích 68 m²: 390.77 m²\n"
     ]
    }
   ],
   "source": [
    "dien_tich = 68\n",
    "print(f\"Dự đoán mức tiêu thụ năng lượng hàng tháng của một căn hộ có diện tích 68 m²: {model.predict(exog=dict(Dien_tich=[dien_tich]))[0]:.2f} m²\")"
   ]
  },
  {
   "cell_type": "code",
   "execution_count": null,
   "metadata": {
    "vscode": {
     "languageId": "plaintext"
    }
   },
   "outputs": [],
   "source": []
  }
 ],
 "metadata": {
  "kernelspec": {
   "display_name": "Python 3",
   "language": "python",
   "name": "python3"
  },
  "language_info": {
   "codemirror_mode": {
    "name": "ipython",
    "version": 3
   },
   "file_extension": ".py",
   "mimetype": "text/x-python",
   "name": "python",
   "nbconvert_exporter": "python",
   "pygments_lexer": "ipython3",
   "version": "3.8.5"
  }
 },
 "nbformat": 4,
 "nbformat_minor": 2
}
