{
 "cells": [
  {
   "cell_type": "markdown",
   "metadata": {
    "vscode": {
     "languageId": "plaintext"
    }
   },
   "source": [
    "# THỐNG KÊ MÁY TÍNH - THƯỜNG KỲ 2\n",
    "\n",
    "Họ và tên: Nguyễn Gia Bảo\n",
    "\n",
    "MSSV: 22691861"
   ]
  },
  {
   "cell_type": "markdown",
   "metadata": {
    "vscode": {
     "languageId": "plaintext"
    }
   },
   "source": [
    "## Bài 1:\n",
    "Một công ty dược phẩm đang nghiên cứu một loại thuốc mới để giảm cholesterol trong máu. Họ đã tiến hành thử nghiệm lâm sàng trên một nhóm 20 bệnh nhân và đo lường mức giảm cholesterol (tính bằng mg/dL) sau 3 tháng sử dụng thuốc.\n",
    "\n",
    "Kết quả đo lường mức giảm cholesterol như sau:\n",
    "```python\n",
    "import numpy as np\n",
    "import pandas as pd\n",
    "import matplotlib.pyplot as plt\n",
    "import scipy.stats as stats\n",
    "\n",
    "cholesterol_reduction = np.array([15.2, 18.7, 12.5, 16.8, 14.3, 19.5, 13.7, 17.2, 20.1, 15.8,\n",
    "                               16.4, 14.9, 17.5, 13.2, 18.9, 15.5, 19.8, 14.6, 16.9, 17.7])\n",
    "```"
   ]
  },
  {
   "cell_type": "code",
   "execution_count": 49,
   "metadata": {},
   "outputs": [],
   "source": [
    "import numpy as np\n",
    "import pandas as pd\n",
    "import matplotlib.pyplot as plt\n",
    "import scipy.stats as stats\n",
    "import numpy as np\n",
    "import matplotlib.pyplot as plt\n",
    "from scipy.stats import norm\n",
    "import math\n",
    "from scipy import stats\n",
    "import pandas as pd\n",
    "from scipy.stats import t\n",
    "import statsmodels.api as sm\n",
    "from sklearn import linear_model\n",
    "import statsmodels.formula.api as smf"
   ]
  },
  {
   "cell_type": "markdown",
   "metadata": {},
   "source": [
    "## a) Tính giá trị trung bình mẫu và độ lệch chuẩn mẫu của mức giảm cholesterol. (1 điểm)"
   ]
  },
  {
   "cell_type": "code",
   "execution_count": 50,
   "metadata": {
    "vscode": {
     "languageId": "plaintext"
    }
   },
   "outputs": [],
   "source": [
    "cholesterol_reduction = np.array([15.2, 18.7, 12.5, 16.8, 14.3, 19.5, 13.7, 17.2, 20.1, 15.8,\n",
    "                               16.4, 14.9, 17.5, 13.2, 18.9, 15.5, 19.8, 14.6, 16.9, 17.7])"
   ]
  },
  {
   "cell_type": "code",
   "execution_count": 51,
   "metadata": {
    "vscode": {
     "languageId": "plaintext"
    }
   },
   "outputs": [
    {
     "name": "stdout",
     "output_type": "stream",
     "text": [
      "trung bình mẫu của mức giảm cholesterol là 16.46.\n",
      "Độ lệch chuẩn mẫu của mức giảm cholesterol là 2.19.\n"
     ]
    }
   ],
   "source": [
    "#Trung bình\n",
    "mean = cholesterol_reduction.mean()\n",
    "print(f\"trung bình mẫu của mức giảm cholesterol là {mean:.2f}.\")\n",
    "\n",
    "#Độ lệch chuẩn\n",
    "std = cholesterol_reduction.std()\n",
    "print(f\"Độ lệch chuẩn mẫu của mức giảm cholesterol là {std:.2f}.\")\n",
    "\n"
   ]
  },
  {
   "cell_type": "markdown",
   "metadata": {},
   "source": [
    "## b) Xây dựng khoảng ước lượng cho giá trị trung bình của mức giảm cholesterol trong quần thể với độ tin cậy 95%. (2 điểm)"
   ]
  },
  {
   "cell_type": "markdown",
   "metadata": {},
   "source": [
    "Không nói lấy mẫu => dùng bootstrap"
   ]
  },
  {
   "cell_type": "code",
   "execution_count": 52,
   "metadata": {
    "vscode": {
     "languageId": "plaintext"
    }
   },
   "outputs": [
    {
     "name": "stdout",
     "output_type": "stream",
     "text": [
      "Khoảng tin cậy bootstrap 95%: [15.495 17.4  ]\n"
     ]
    }
   ],
   "source": [
    "means = []\n",
    "\n",
    "np.random.seed(0)\n",
    "for _ in range(10000):\n",
    "    sample = np.random.choice(cholesterol_reduction, size=len(cholesterol_reduction), replace=True)\n",
    "    means.append(np.mean(sample))\n",
    "\n",
    "ci = np.percentile(means, [2.5, 97.5])\n",
    "print(\"Khoảng tin cậy bootstrap 95%:\", ci)"
   ]
  },
  {
   "cell_type": "code",
   "execution_count": null,
   "metadata": {
    "vscode": {
     "languageId": "plaintext"
    }
   },
   "outputs": [],
   "source": []
  },
  {
   "cell_type": "markdown",
   "metadata": {},
   "source": [
    "## c) Giả sử FDA (Cục Quản lý Thực phẩm và Dược phẩm) yêu cầu loại thuốc này phải có khả năng giảm ít nhất 15 mg/dL cholesterol để được phê duyệt. Dựa vào khoảng ước lượng mà bạn đã tính được, hãy nhận xét liệu thuốc này có khả năng được FDA phê duyệt hay không? (1 điểm)\n"
   ]
  },
  {
   "cell_type": "markdown",
   "metadata": {
    "vscode": {
     "languageId": "plaintext"
    }
   },
   "source": [
    "Có khả năng được FDA phê duyệt do vượt xa kì vọng: 15 < 15.495"
   ]
  },
  {
   "cell_type": "code",
   "execution_count": null,
   "metadata": {
    "vscode": {
     "languageId": "plaintext"
    }
   },
   "outputs": [],
   "source": []
  },
  {
   "cell_type": "markdown",
   "metadata": {},
   "source": [
    "## Bài 2: Kiểm định trung bình với kích thước mẫu lớn (4 điểm)\n",
    "\n",
    "Một chuỗi nhà hàng đồ ăn nhanh quảng cáo rằng thời gian chờ đợi trung bình cho một đơn hàng tại cửa sổ drive-thru của họ là không quá 180 giây (3 phút). Một tổ chức bảo vệ người tiêu dùng nghi ngờ rằng thời gian chờ thực tế cao hơn quảng cáo và quyết định điều tra.\n",
    "\n",
    "Họ đã thu thập dữ liệu từ 40 khách hàng ngẫu nhiên tại một chi nhánh của chuỗi nhà hàng này và ghi lại thời gian chờ (tính bằng giây) như sau:\n",
    "\n",
    "```python\n",
    "waiting_times = np.array([\n",
    "    195, 188, 172, 210, 205, 183, 197, 215, 178, 192,\n",
    "    201, 187, 193, 179, 204, 199, 182, 208, 191, 185,\n",
    "    196, 203, 189, 174, 200, 186, 213, 181, 198, 207,\n",
    "    184, 202, 190, 209, 177, 194, 180, 212, 206, 175\n",
    "])\n",
    "```\n"
   ]
  },
  {
   "cell_type": "markdown",
   "metadata": {},
   "source": [
    "## a) Với mức ý nghĩa α = 0.05, hãy thực hiện kiểm định để xác định liệu thời gian chờ trung bình có vượt quá 180 giây như chuỗi nhà hàng quảng cáo hay không? (3.5 điểm)"
   ]
  },
  {
   "cell_type": "markdown",
   "metadata": {},
   "source": [
    "### B1. Thiết lập giả thuyết và kiểm tra điều kiện\n",
    "\n",
    "$$\n",
    "H_0: \\mu <= 180 \\quad \\text{(không vượt quá thời gian chờ trung bình)}\n",
    "$$  \n",
    "$$\n",
    "H_1: \\mu > 180 \\quad \\text{(vượt quá thời gian chờ trung bình)}\n",
    "$$\n",
    "\n",
    "Điều kiện kiểm định: Mẫu lớn ($n=40$) nhưng **không biết $\\sigma$**, theo định lý giới hạn trung tâm, $\\bar{x}$\n",
    "  xấp xỉ phân phối chuẩn -> dùng phân phối **t phía phải**\n",
    "\n"
   ]
  },
  {
   "cell_type": "markdown",
   "metadata": {},
   "source": [
    "### B2. Mức ý nghĩa kiểm định\n",
    "$\\alpha = 0.05$"
   ]
  },
  {
   "cell_type": "markdown",
   "metadata": {},
   "source": [
    "### B3. Tính giá trị kiểm định từ mẫu\n",
    "$ t = \\frac{\\bar{x} - \\mu_0}{s / \\sqrt{n}} $ = 7.1891"
   ]
  },
  {
   "cell_type": "markdown",
   "metadata": {},
   "source": [
    "### B4. Xác định  p-value\n",
    "#### p-value:\n",
    "\n",
    "\n",
    "$$\n",
    "\\text{p-value} \\approx 0 < \\alpha = 0.05 \\Rightarrow \\text{Bác bỏ } H_0\n",
    "$$"
   ]
  },
  {
   "cell_type": "markdown",
   "metadata": {},
   "source": [
    "### B5. Kết luận\n",
    "- p-value **nhỏ hơn** mức ý nghĩa\n",
    "- **Kết luận:** thời gian chờ trung bình có vượt quá 180s"
   ]
  },
  {
   "cell_type": "code",
   "execution_count": 53,
   "metadata": {
    "vscode": {
     "languageId": "plaintext"
    }
   },
   "outputs": [],
   "source": [
    "waiting_times = np.array([\n",
    "    195, 188, 172, 210, 205, 183, 197, 215, 178, 192,\n",
    "    201, 187, 193, 179, 204, 199, 182, 208, 191, 185,\n",
    "    196, 203, 189, 174, 200, 186, 213, 181, 198, 207,\n",
    "    184, 202, 190, 209, 177, 194, 180, 212, 206, 175\n",
    "])"
   ]
  },
  {
   "cell_type": "code",
   "execution_count": 54,
   "metadata": {
    "vscode": {
     "languageId": "plaintext"
    }
   },
   "outputs": [
    {
     "name": "stdout",
     "output_type": "stream",
     "text": [
      "Trị kiểm định t = 7.1891\n",
      "Trị tới hạn: 1.6849\n",
      "CI 95%: (190.33608893954448, 196.66391106045552)\n",
      "p-value = 0.0\n",
      "Kết luận theo p-value: Bác bỏ H0\n",
      "193.5\n"
     ]
    }
   ],
   "source": [
    "# Dữ liệu\n",
    "mu_0 = 180\n",
    "x_bar = waiting_times.mean()\n",
    "sigma = waiting_times.std()\n",
    "n = len(waiting_times)\n",
    "alpha = 0.05\n",
    "\n",
    "# Trị kiểm định\n",
    "t = (x_bar - mu_0) / (sigma / np.sqrt(n))\n",
    "print(\"Trị kiểm định t =\", round(t, 4))\n",
    "\n",
    "t_crit = stats.t.ppf(1 - alpha, df=n-1)\n",
    "print(f\"Trị tới hạn: {t_crit:.4f}\")\n",
    "\n",
    "t_score = stats.t.ppf(1 - alpha, df=n-1)\n",
    "se = sigma / np.sqrt(n)\n",
    "ci = (x_bar - t_score * se, x_bar + t_score * se)\n",
    "print(f\"CI 95%: {ci}\")\n",
    "\n",
    "# p-value\n",
    "p_value = 1 - stats.t.cdf(t, df=n-1)\n",
    "print(\"p-value =\", round(p_value, 4))\n",
    "\n",
    "if p_value < alpha:\n",
    "    print(\"Kết luận theo p-value: Bác bỏ H0\")\n",
    "else:\n",
    "    print(\"Kết luận theo p-value: Không bác bỏ H0\")\n",
    "print(x_bar)"
   ]
  },
  {
   "cell_type": "markdown",
   "metadata": {},
   "source": [
    "## b) Từ kết quả trên, hãy đưa ra kết luận về quảng cáo của chuỗi nhà hàng. Nếu bạn là người quản lý chuỗi nhà hàng, bạn sẽ đề xuất những biện pháp gì để cải thiện tình hình? (0.5 điểm)"
   ]
  },
  {
   "cell_type": "markdown",
   "metadata": {
    "vscode": {
     "languageId": "plaintext"
    }
   },
   "source": [
    "Thay vì quảng cáo là không quá 180s chờ đợi trung bình, tôi có thể nói sự thật là không quá 200s thời gian chờ đợi trung bình, vì: có thể thấy CI với mức ý nghĩa là 5% với thời gian chờ đợi trung bình nằm trong khoảng (190.33608893954448, 196.66391106045552). Nếu nói 190s => số lẻ, không tạo cảm giác thiện cảm. Vậy nên quảng cáo 200s là phù hợp nhất."
   ]
  },
  {
   "cell_type": "code",
   "execution_count": null,
   "metadata": {
    "vscode": {
     "languageId": "plaintext"
    }
   },
   "outputs": [],
   "source": []
  },
  {
   "cell_type": "markdown",
   "metadata": {
    "vscode": {
     "languageId": "plaintext"
    }
   },
   "source": [
    "## Bài 3: Hồi quy tuyến tính đơn (2 điểm)\n",
    "\n",
    "Một nhà nghiên cứu marketing muốn tìm hiểu mối quan hệ giữa chi phí quảng cáo (đơn vị: nghìn USD) và doanh số bán hàng (đơn vị: nghìn USD) của một sản phẩm mới ra mắt. Dữ liệu từ 8 khu vực khác nhau được thu thập như sau:\n",
    "\n",
    "```python\n",
    "advertising_data = pd.DataFrame({\n",
    "    'Chi_phi_quang_cao': [2.5, 3.7, 5.2, 1.8, 4.3, 6.0, 3.0, 4.8],\n",
    "    'Doanh_so': [18.3, 24.5, 32.8, 14.2, 27.9, 36.4, 21.6, 29.7]\n",
    "})\n",
    "\n",
    "print(advertising_data)\n",
    "```"
   ]
  },
  {
   "cell_type": "markdown",
   "metadata": {
    "vscode": {
     "languageId": "plaintext"
    }
   },
   "source": [
    "## a) Xây dựng mô hình hồi quy tuyến tính đơn để dự đoán doanh số bán hàng dựa vào chi phí quảng cáo. Tính các tham số của mô hình và viết phương trình hồi quy. (1 điểm)"
   ]
  },
  {
   "cell_type": "markdown",
   "metadata": {},
   "source": []
  },
  {
   "cell_type": "code",
   "execution_count": 55,
   "metadata": {
    "vscode": {
     "languageId": "plaintext"
    }
   },
   "outputs": [
    {
     "name": "stdout",
     "output_type": "stream",
     "text": [
      "   Chi_phi_quang_cao  Doanh_so\n",
      "0                2.5      18.3\n",
      "1                3.7      24.5\n",
      "2                5.2      32.8\n",
      "3                1.8      14.2\n",
      "4                4.3      27.9\n",
      "5                6.0      36.4\n",
      "6                3.0      21.6\n",
      "7                4.8      29.7\n"
     ]
    }
   ],
   "source": [
    "advertising_data = pd.DataFrame({\n",
    "    'Chi_phi_quang_cao': [2.5, 3.7, 5.2, 1.8, 4.3, 6.0, 3.0, 4.8],\n",
    "    'Doanh_so': [18.3, 24.5, 32.8, 14.2, 27.9, 36.4, 21.6, 29.7]\n",
    "})\n",
    "\n",
    "print(advertising_data)"
   ]
  },
  {
   "cell_type": "markdown",
   "metadata": {},
   "source": [
    "Có thể thấy tương quan rất mạnh: 0.998\n",
    "\n",
    "Mô hình hồi quy: Doanh_so = 5.2421 + 5.2225 * Chi_phi_quang_cao"
   ]
  },
  {
   "cell_type": "code",
   "execution_count": 59,
   "metadata": {
    "vscode": {
     "languageId": "plaintext"
    }
   },
   "outputs": [
    {
     "name": "stdout",
     "output_type": "stream",
     "text": [
      "                            OLS Regression Results                            \n",
      "==============================================================================\n",
      "Dep. Variable:               Doanh_so   R-squared:                       0.997\n",
      "Model:                            OLS   Adj. R-squared:                  0.996\n",
      "Method:                 Least Squares   F-statistic:                     1825.\n",
      "Date:                Sat, 12 Apr 2025   Prob (F-statistic):           1.10e-08\n",
      "Time:                        16:16:45   Log-Likelihood:                -4.0261\n",
      "No. Observations:                   8   AIC:                             12.05\n",
      "Df Residuals:                       6   BIC:                             12.21\n",
      "Df Model:                           1                                         \n",
      "Covariance Type:            nonrobust                                         \n",
      "=====================================================================================\n",
      "                        coef    std err          t      P>|t|      [0.025      0.975]\n",
      "-------------------------------------------------------------------------------------\n",
      "Intercept             5.2421      0.505     10.370      0.000       4.005       6.479\n",
      "Chi_phi_quang_cao     5.2225      0.122     42.714      0.000       4.923       5.522\n",
      "==============================================================================\n",
      "Omnibus:                        0.107   Durbin-Watson:                   3.070\n",
      "Prob(Omnibus):                  0.948   Jarque-Bera (JB):                0.300\n",
      "Skew:                           0.161   Prob(JB):                        0.861\n",
      "Kurtosis:                       2.107   Cond. No.                         13.5\n",
      "==============================================================================\n",
      "\n",
      "Notes:\n",
      "[1] Standard Errors assume that the covariance matrix of the errors is correctly specified.\n",
      "Mô hình hồi quy: y = 5.2421 + 5.2225x\n",
      "He so tuong quan: 0.9983597736891564\n"
     ]
    },
    {
     "name": "stderr",
     "output_type": "stream",
     "text": [
      "C:\\ProgramData\\Anaconda3\\lib\\site-packages\\scipy\\stats\\stats.py:1603: UserWarning: kurtosistest only valid for n>=20 ... continuing anyway, n=8\n",
      "  warnings.warn(\"kurtosistest only valid for n>=20 ... continuing \"\n"
     ]
    }
   ],
   "source": [
    "model = sm.formula.ols('Doanh_so ~ Chi_phi_quang_cao', data=advertising_data).fit()\n",
    "print(model.summary())\n",
    "print(f\"Mô hình hồi quy: y = {model.params[0]:.4f} + {model.params[1]:.4f}x\")\n",
    "r = np.corrcoef(advertising_data[\"Chi_phi_quang_cao\"], advertising_data[\"Doanh_so\"])[0, 1]\n",
    "print(\"He so tuong quan:\", r)\n"
   ]
  },
  {
   "cell_type": "markdown",
   "metadata": {},
   "source": [
    "## b) Dự đoán doanh số bán hàng khi chi phí quảng cáo là 4.5 nghìn USD. (1 điểm)"
   ]
  },
  {
   "cell_type": "code",
   "execution_count": 57,
   "metadata": {},
   "outputs": [
    {
     "name": "stdout",
     "output_type": "stream",
     "text": [
      "Dự đoán doanh số bán hàng khi chi phí quảng cáo là 4.5 nghìn USD: 28.74 nghìn $\n"
     ]
    }
   ],
   "source": [
    "chi_phi = 4.5\n",
    "print(f\"Dự đoán doanh số bán hàng khi chi phí quảng cáo là 4.5 nghìn USD: {model.predict(exog=dict(Chi_phi_quang_cao=[chi_phi]))[0]:.2f} nghìn $\")"
   ]
  },
  {
   "cell_type": "code",
   "execution_count": null,
   "metadata": {},
   "outputs": [],
   "source": []
  }
 ],
 "metadata": {
  "kernelspec": {
   "display_name": "Python 3",
   "language": "python",
   "name": "python3"
  },
  "language_info": {
   "codemirror_mode": {
    "name": "ipython",
    "version": 3
   },
   "file_extension": ".py",
   "mimetype": "text/x-python",
   "name": "python",
   "nbconvert_exporter": "python",
   "pygments_lexer": "ipython3",
   "version": "3.7.1"
  }
 },
 "nbformat": 4,
 "nbformat_minor": 2
}
