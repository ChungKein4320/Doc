{
 "cells": [
  {
   "cell_type": "markdown",
   "metadata": {
    "vscode": {
     "languageId": "plaintext"
    }
   },
   "source": [
    "# THỐNG KÊ MÁY TÍNH - THƯỜNG KỲ 2\n",
    "\n",
    "Họ và tên: Đoàn Văn Quý Tỷ\n",
    "\n",
    "MSSV: 22704831"
   ]
  },
  {
   "cell_type": "markdown",
   "metadata": {
    "vscode": {
     "languageId": "plaintext"
    }
   },
   "source": [
    "## Bài 1:(4 điểm) Một công ty sản xuất thiết bị điện tử muốn đánh giá tỉ lệ sản phẩm lỗi trong quy trình sản xuất mới. Họ đã tiến hành kiểm tra ngẫu nhiên 500 thiết bị và phát hiện 35 thiết bị có lỗi.\n",
    "\n",
    "```python\n",
    "import numpy as np\n",
    "import pandas as pd\n",
    "import matplotlib.pyplot as plt\n",
    "import scipy.stats as stats\n",
    "```"
   ]
  },
  {
   "cell_type": "markdown",
   "metadata": {},
   "source": [
    "### a) Tính tỉ lệ thiết bị lỗi trong mẫu và ước lượng độ lệch chuẩn của tỉ lệ mẫu. (1 điểm)"
   ]
  },
  {
   "cell_type": "code",
   "execution_count": 1,
   "metadata": {
    "vscode": {
     "languageId": "plaintext"
    }
   },
   "outputs": [],
   "source": [
    "import numpy as np\n",
    "import pandas as pd\n",
    "import matplotlib.pyplot as plt\n",
    "import scipy.stats as stats"
   ]
  },
  {
   "cell_type": "code",
   "execution_count": null,
   "metadata": {
    "vscode": {
     "languageId": "plaintext"
    }
   },
   "outputs": [],
   "source": []
  },
  {
   "cell_type": "markdown",
   "metadata": {},
   "source": [
    "### b) Xây dựng khoảng ước lượng cho tỉ lệ thiết bị lỗi trong toàn bộ dây chuyền sản xuất với độ tin cậy 95%. (2 điểm)"
   ]
  },
  {
   "cell_type": "code",
   "execution_count": null,
   "metadata": {
    "vscode": {
     "languageId": "plaintext"
    }
   },
   "outputs": [],
   "source": []
  },
  {
   "cell_type": "code",
   "execution_count": null,
   "metadata": {
    "vscode": {
     "languageId": "plaintext"
    }
   },
   "outputs": [],
   "source": []
  },
  {
   "cell_type": "markdown",
   "metadata": {},
   "source": [
    "### c) Tiêu chuẩn của ngành yêu cầu tỉ lệ sản phẩm lỗi không được vượt quá 8%. Dựa vào khoảng ước lượng mà bạn đã tính được, hãy cho biết liệu quy trình sản xuất mới có đáp ứng được tiêu chuẩn của ngành hay không? (1 điểm)"
   ]
  },
  {
   "cell_type": "code",
   "execution_count": null,
   "metadata": {
    "vscode": {
     "languageId": "plaintext"
    }
   },
   "outputs": [],
   "source": []
  },
  {
   "cell_type": "code",
   "execution_count": null,
   "metadata": {
    "vscode": {
     "languageId": "plaintext"
    }
   },
   "outputs": [],
   "source": []
  },
  {
   "cell_type": "markdown",
   "metadata": {},
   "source": [
    "## Bài 2: \n",
    "Một nhà sản xuất pin mặt trời tuyên bố rằng tuổi thọ trung bình của sản phẩm pin mặt trời mới của họ là ít nhất 15 năm. Một viện nghiên cứu độc lập muốn kiểm tra tuyên bố này và đã theo dõi 18 pin mặt trời cho đến khi chúng hết tuổi thọ sử dụng. Dữ liệu về tuổi thọ (tính bằng năm) được ghi lại như sau:\n",
    "\n",
    "```python\n",
    "solar_panel_lifetime = np.array([\n",
    "    14.2, 15.7, 13.8, 16.2, 14.5, 15.9, 13.5, 14.8, 16.5,\n",
    "    15.1, 14.7, 15.4, 13.9, 15.8, 14.4, 15.3, 14.9, 15.5\n",
    "])\n",
    "```"
   ]
  },
  {
   "cell_type": "markdown",
   "metadata": {},
   "source": [
    "### a) Với mức ý nghĩa α = 0.05, hãy thực hiện kiểm định để xác định liệu tuổi thọ trung bình của pin mặt trời có thực sự đạt được ít nhất 15 năm như nhà sản xuất tuyên bố hay không? (3 điểm)"
   ]
  },
  {
   "cell_type": "code",
   "execution_count": null,
   "metadata": {
    "vscode": {
     "languageId": "plaintext"
    }
   },
   "outputs": [],
   "source": []
  },
  {
   "cell_type": "code",
   "execution_count": null,
   "metadata": {
    "vscode": {
     "languageId": "plaintext"
    }
   },
   "outputs": [],
   "source": []
  },
  {
   "cell_type": "markdown",
   "metadata": {},
   "source": [
    "### b) Từ kết quả trên, hãy đưa ra kết luận về tuyên bố của nhà sản xuất. Nếu bạn là chuyên gia tư vấn cho nhà sản xuất, bạn sẽ đề xuất những biện pháp gì? (1 điểm)"
   ]
  },
  {
   "cell_type": "code",
   "execution_count": null,
   "metadata": {
    "vscode": {
     "languageId": "plaintext"
    }
   },
   "outputs": [],
   "source": []
  },
  {
   "cell_type": "code",
   "execution_count": null,
   "metadata": {
    "vscode": {
     "languageId": "plaintext"
    }
   },
   "outputs": [],
   "source": []
  },
  {
   "cell_type": "markdown",
   "metadata": {
    "vscode": {
     "languageId": "plaintext"
    }
   },
   "source": [
    "## Bài 3: (2 điểm)\n",
    "Một nhà nghiên cứu môi trường muốn khảo sát mối quan hệ giữa mức tiêu thụ năng lượng hàng tháng (kWh) và diện tích (m²) của các căn hộ trong một khu chung cư. Sau khi thu thập dữ liệu từ 12 căn hộ, nhà nghiên cứu ghi nhận được:\n",
    "\n",
    "```python\n",
    "apartment_data = pd.DataFrame({\n",
    "    'Dien_tich': [45, 60, 75, 50, 85, 95, 65, 70, 80, 55, 90, 40],\n",
    "    'Tieu_thu_nang_luong': [280, 350, 420, 300, 480, 520, 380, 400, 450, 320, 500, 260]\n",
    "})\n",
    "\n",
    "print(apartment_data)"
   ]
  },
  {
   "cell_type": "markdown",
   "metadata": {
    "vscode": {
     "languageId": "plaintext"
    }
   },
   "source": [
    "### a) Tính hệ số tương quan Pearson giữa diện tích và mức tiêu thụ năng lượng. Xây dựng mô hình hồi quy tuyến tính đơn để dự đoán mức tiêu thụ năng lượng dựa vào diện tích căn hộ. Viết phương trình hồi quy. (1 điểm)\n"
   ]
  },
  {
   "cell_type": "code",
   "execution_count": null,
   "metadata": {
    "vscode": {
     "languageId": "plaintext"
    }
   },
   "outputs": [],
   "source": []
  },
  {
   "cell_type": "code",
   "execution_count": null,
   "metadata": {
    "vscode": {
     "languageId": "plaintext"
    }
   },
   "outputs": [],
   "source": []
  },
  {
   "cell_type": "markdown",
   "metadata": {},
   "source": [
    "### b) Dự đoán mức tiêu thụ năng lượng hàng tháng của một căn hộ có diện tích 68 m². (1 điểm)"
   ]
  },
  {
   "cell_type": "code",
   "execution_count": null,
   "metadata": {
    "vscode": {
     "languageId": "plaintext"
    }
   },
   "outputs": [],
   "source": []
  },
  {
   "cell_type": "code",
   "execution_count": null,
   "metadata": {
    "vscode": {
     "languageId": "plaintext"
    }
   },
   "outputs": [],
   "source": []
  }
 ],
 "metadata": {
  "kernelspec": {
   "display_name": "Python 3",
   "language": "python",
   "name": "python3"
  },
  "language_info": {
   "codemirror_mode": {
    "name": "ipython",
    "version": 3
   },
   "file_extension": ".py",
   "mimetype": "text/x-python",
   "name": "python",
   "nbconvert_exporter": "python",
   "pygments_lexer": "ipython3",
   "version": "3.8.5"
  }
 },
 "nbformat": 4,
 "nbformat_minor": 2
}
